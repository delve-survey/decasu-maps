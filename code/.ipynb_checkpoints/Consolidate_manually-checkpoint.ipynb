{
 "cells": [
  {
   "cell_type": "code",
   "execution_count": 1,
   "metadata": {},
   "outputs": [],
   "source": [
    "import os\n",
    "import numpy as np\n",
    "import multiprocessing\n",
    "import time\n",
    "import esutil\n",
    "import glob\n",
    "import decasu\n",
    "from decasu.utils import op_str_to_code\n",
    "from decasu.healpix_consolidator import HealpixConsolidator\n",
    "import healsparse\n",
    "import skymap \n",
    "from skymap.survey import DelveSkymap, SurveyZoom, ZoomFormatter360\n",
    "from skymap.utils import setdefaults\n",
    "import matplotlib.pyplot as plt"
   ]
  },
  {
   "cell_type": "code",
   "execution_count": 2,
   "metadata": {},
   "outputs": [],
   "source": [
    "from decasu import decasu_globals"
   ]
  },
  {
   "cell_type": "code",
   "execution_count": 6,
   "metadata": {},
   "outputs": [],
   "source": [
    "config = decasu.Configuration.load_yaml(\"../DR_311_config.yaml\")\n",
    "outputpath=\"../hsp/\"\n",
    "clear_intermediate_files=True\n",
    "bands=['g']"
   ]
  },
  {
   "cell_type": "code",
   "execution_count": 7,
   "metadata": {},
   "outputs": [
    {
     "data": {
      "text/plain": [
       "{'coverage': ['sum'],\n",
       " 'nexp': ['sum'],\n",
       " 'exptime': ['sum'],\n",
       " 'airmass': ['wmean'],\n",
       " 'dcr_dra': ['wmean'],\n",
       " 'dcr_ddec': ['wmean'],\n",
       " 'dcr_e1': ['wmean'],\n",
       " 'dcr_e2': ['wmean'],\n",
       " 'maglim': ['wmean'],\n",
       " 'skysigma': ['wmean', 'wmean-scaled'],\n",
       " 'skybrite': ['wmean', 'wmean-scaled'],\n",
       " 'fwhm': ['wmean']}"
      ]
     },
     "execution_count": 7,
     "metadata": {},
     "output_type": "execute_result"
    }
   ],
   "source": [
    "config.map_types"
   ]
  },
  {
   "cell_type": "code",
   "execution_count": 12,
   "metadata": {},
   "outputs": [],
   "source": [
    "fname_list = []\n",
    "mapfiles_list = []\n",
    "num=2\n",
    "for map_type in config.map_types.keys():\n",
    "    for operation in config.map_types[map_type]:\n",
    "                op_code = op_str_to_code(operation)\n",
    "                for band in bands:\n",
    "                    # Get full map filename\n",
    "                    fname = os.path.join(outputpath, config.map_filename(band,\n",
    "                                                                         map_type,\n",
    "                                                                         op_code))\n",
    "                    # Check if file exists\n",
    "                    if os.path.isfile(fname):\n",
    "                        continue\n",
    "\n",
    "                    # Assemble all the individual pixel maps\n",
    "                    fname_template = config.healpix_map_filename_template(band,\n",
    "                                                                               map_type,\n",
    "                                                                               op_code)\n",
    "\n",
    "                    mapfiles = sorted(glob.glob(os.path.join(outputpath,\n",
    "                                                             '%d_?????' % (config.nside_run),\n",
    "                                                             fname_template)))\n",
    "                    fname_list.append(fname)\n",
    "                    mapfiles_list.append(mapfiles)"
   ]
  },
  {
   "cell_type": "code",
   "execution_count": 13,
   "metadata": {},
   "outputs": [
    {
     "name": "stdout",
     "output_type": "stream",
     "text": [
      "1122\n"
     ]
    }
   ],
   "source": [
    "values = zip(fname_list, mapfiles_list)\n",
    "print(len(mapfiles_list[0]))"
   ]
  },
  {
   "cell_type": "code",
   "execution_count": 125,
   "metadata": {},
   "outputs": [
    {
     "name": "stdout",
     "output_type": "stream",
     "text": [
      "9\n"
     ]
    }
   ],
   "source": [
    "nproc=(len(fname_list))\n",
    "print(nproc)"
   ]
  },
  {
   "cell_type": "code",
   "execution_count": 126,
   "metadata": {},
   "outputs": [],
   "source": [
    "hpix_consolidator = HealpixConsolidator(config, clear_intermediate_files)"
   ]
  },
  {
   "cell_type": "code",
   "execution_count": 127,
   "metadata": {},
   "outputs": [],
   "source": [
    "%%capture cap_out\n",
    "t = time.time()\n",
    "mp_ctx = multiprocessing.get_context(\"fork\")\n",
    "pool = mp_ctx.Pool(processes=nproc)\n",
    "pool.starmap(hpix_consolidator, values, chunksize=2)\n",
    "pool.close()\n",
    "pool.join()\n",
    "print('Time elapsed: ', time.time() - t)"
   ]
  },
  {
   "cell_type": "code",
   "execution_count": 48,
   "metadata": {},
   "outputs": [
    {
     "data": {
      "text/plain": [
       "Configuration(outbase='r2v3_1', map_types={'coverage': ['sum']}, nside=16384, nside_coverage=32, nside_run=32, ncore=1, extra_fields={'ctype1': 'RA---TPV', 'ctype2': 'DEC--TPV', 'cunit1': 'deg', 'cunit2': 'deg'}, band_replacement={}, border=15, amp_boundary=1024, use_two_amps=True, use_wcs=True, ra_corner_fields=[], dec_corner_fields=[], arcsec_per_pix=0.263, maglim_aperture=2.0, maglim_nsig=10.0, zp_global=30.0, zp_sign_swap=False, magzp_field='mag_zero', exp_field='expnum', ccd_field='ccdnum', band_field='band', mjd_field='mjd_obs', skyvar_field='skyvar', bad_amps={31: ['a']}, bad_ccds=[], latitude=-30.169, longitude=-70.8063, elevation=2200.0, satstar_maxrad=400.0)"
      ]
     },
     "execution_count": 48,
     "metadata": {},
     "output_type": "execute_result"
    }
   ],
   "source": [
    "config"
   ]
  },
  {
   "cell_type": "code",
   "execution_count": 10,
   "metadata": {},
   "outputs": [
    {
     "name": "stdout",
     "output_type": "stream",
     "text": [
      "Cleaning intermediate directories...\n"
     ]
    }
   ],
   "source": [
    "# Clean up\n",
    "if clear_intermediate_files:\n",
    "    print('Cleaning intermediate directories...')\n",
    "    directories = sorted(glob.glob(os.path.join(outputpath,\n",
    "                                                '%d_?????' % (config.nside_run))))\n",
    "    for d in directories:\n",
    "        if not os.listdir(d):\n",
    "            # Clear directory, it is empty\n",
    "            os.rmdir(d)"
   ]
  },
  {
   "cell_type": "code",
   "execution_count": 128,
   "metadata": {},
   "outputs": [
    {
     "name": "stdout",
     "output_type": "stream",
     "text": [
      "Time elapsed:  591.3676691055298\n"
     ]
    }
   ],
   "source": [
    "cap_out()\n"
   ]
  },
  {
   "cell_type": "code",
   "execution_count": 5,
   "metadata": {},
   "outputs": [],
   "source": [
    "import healsparse as hsp\n",
    "import healpy as hp"
   ]
  },
  {
   "cell_type": "code",
   "execution_count": 6,
   "metadata": {},
   "outputs": [],
   "source": [
    "nside=256"
   ]
  },
  {
   "cell_type": "code",
   "execution_count": 7,
   "metadata": {},
   "outputs": [],
   "source": [
    "dat=healsparse.HealSparseMap.read(\"../hsp/r2v3_1_g_coverage_sum.hs\")\n",
    "dat2=healsparse.HealSparseMap.read(\"../hsp/r2v3_2_g_coverage_sum.hs\")"
   ]
  },
  {
   "cell_type": "code",
   "execution_count": 157,
   "metadata": {},
   "outputs": [],
   "source": []
  },
  {
   "cell_type": "code",
   "execution_count": 159,
   "metadata": {},
   "outputs": [],
   "source": [
    "dat=dat3.fracdet_map(256)\n",
    "vmin=0.6\n",
    "vmax=1"
   ]
  },
  {
   "cell_type": "code",
   "execution_count": 160,
   "metadata": {},
   "outputs": [],
   "source": [
    "pixchange=hp.ring2nest(nside,np.arange(hp.nside2npix(nside)))"
   ]
  },
  {
   "cell_type": "code",
   "execution_count": 161,
   "metadata": {},
   "outputs": [],
   "source": [
    "hpxmap=dat.generate_healpix_map(nside)\n",
    "#hpxmap2=dat2.generate_healpix_map(nside)"
   ]
  },
  {
   "cell_type": "code",
   "execution_count": 162,
   "metadata": {},
   "outputs": [],
   "source": [
    "#hpxmap[hpxmap== hp.UNSEEN]=hpxmap2[hpxmap== hp.UNSEEN]"
   ]
  },
  {
   "cell_type": "code",
   "execution_count": 163,
   "metadata": {},
   "outputs": [],
   "source": [
    "hpxmap=hpxmap[pixchange]\n",
    "\n",
    "minval=np.min(hpxmap[hpxmap != hp.UNSEEN])\n",
    "maxval=np.max(hpxmap[hpxmap != hp.UNSEEN])"
   ]
  },
  {
   "cell_type": "code",
   "execution_count": 164,
   "metadata": {},
   "outputs": [],
   "source": [
    "import skymap"
   ]
  },
  {
   "cell_type": "code",
   "execution_count": 165,
   "metadata": {},
   "outputs": [
    {
     "name": "stderr",
     "output_type": "stream",
     "text": [
      "/cvmfs/des.opensciencegrid.org/fnal/anaconda3/envs/des20a/lib/python3.7/site-packages/mpl_toolkits/basemap/__init__.py:4757: DeprecationWarning: The truth value of an empty array is ambiguous. Returning False, but in future this will result in an error. Use `array.size > 0` to check that an array is not empty.\n",
      "  if fix_wrap_around and itemindex:\n"
     ]
    },
    {
     "data": {
      "image/png": "[encoded data removed]",
      "text/plain": [
       "<Figure size 432x288 with 2 Axes>"
      ]
     },
     "metadata": {
      "needs_background": "light"
     },
     "output_type": "display_data"
    }
   ],
   "source": [
    "smap=skymap.survey.SurveyMcBryde()\n",
    "bit=smap.draw_hpxmap(hpxmap, vmin=vmin,vmax=vmax)\n",
    "bit=smap.draw_inset_colorbar(loc=3,bbox_to_anchor=(0.,-0.22,1,1))"
   ]
  },
  {
   "cell_type": "code",
   "execution_count": 168,
   "metadata": {},
   "outputs": [
    {
     "name": "stdout",
     "output_type": "stream",
     "text": [
      "g\n",
      "coverage_sum\n",
      "nexp_sum\n",
      "weight_wmean\n",
      "r\n",
      "coverage_sum\n",
      "nexp_sum\n"
     ]
    },
    {
     "ename": "KeyboardInterrupt",
     "evalue": "",
     "output_type": "error",
     "traceback": [
      "\u001b[0;31m---------------------------------------------------------------------------\u001b[0m",
      "\u001b[0;31mKeyboardInterrupt\u001b[0m                         Traceback (most recent call last)",
      "\u001b[0;32m<ipython-input-168-9da65fe7c6b5>\u001b[0m in \u001b[0;36m<module>\u001b[0;34m\u001b[0m\n\u001b[1;32m      8\u001b[0m         \u001b[0mdat2\u001b[0m\u001b[0;34m=\u001b[0m\u001b[0mhealsparse\u001b[0m\u001b[0;34m.\u001b[0m\u001b[0mHealSparseMap\u001b[0m\u001b[0;34m.\u001b[0m\u001b[0mread\u001b[0m\u001b[0;34m(\u001b[0m\u001b[0;34m\"../hsp/r2v3_2_{}_{}.hs\"\u001b[0m\u001b[0;34m.\u001b[0m\u001b[0mformat\u001b[0m\u001b[0;34m(\u001b[0m\u001b[0mband\u001b[0m\u001b[0;34m,\u001b[0m\u001b[0mmaptype\u001b[0m\u001b[0;34m)\u001b[0m\u001b[0;34m)\u001b[0m\u001b[0;34m\u001b[0m\u001b[0;34m\u001b[0m\u001b[0m\n\u001b[1;32m      9\u001b[0m         \u001b[0mdat3\u001b[0m\u001b[0;34m=\u001b[0m\u001b[0mhealsparse\u001b[0m\u001b[0;34m.\u001b[0m\u001b[0msum_union\u001b[0m\u001b[0;34m(\u001b[0m\u001b[0;34m[\u001b[0m\u001b[0mdat\u001b[0m\u001b[0;34m,\u001b[0m\u001b[0mdat2\u001b[0m\u001b[0;34m]\u001b[0m\u001b[0;34m)\u001b[0m\u001b[0;34m\u001b[0m\u001b[0;34m\u001b[0m\u001b[0m\n\u001b[0;32m---> 10\u001b[0;31m         \u001b[0mdat3\u001b[0m\u001b[0;34m.\u001b[0m\u001b[0mwrite\u001b[0m\u001b[0;34m(\u001b[0m\u001b[0;34m'../hsp/r2v3_{}_{}.hs'\u001b[0m\u001b[0;34m.\u001b[0m\u001b[0mformat\u001b[0m\u001b[0;34m(\u001b[0m\u001b[0mband\u001b[0m\u001b[0;34m,\u001b[0m\u001b[0mmaptype\u001b[0m\u001b[0;34m)\u001b[0m\u001b[0;34m,\u001b[0m \u001b[0mclobber\u001b[0m\u001b[0;34m=\u001b[0m\u001b[0;32mTrue\u001b[0m\u001b[0;34m)\u001b[0m\u001b[0;34m\u001b[0m\u001b[0;34m\u001b[0m\u001b[0m\n\u001b[0m",
      "\u001b[0;32m~/software/healsparse/healsparse/healSparseMap.py\u001b[0m in \u001b[0;36mwrite\u001b[0;34m(self, filename, clobber, nocompress, format, nside_io)\u001b[0m\n\u001b[1;32m    361\u001b[0m         \"\"\"\n\u001b[1;32m    362\u001b[0m         _write_map(self, filename, clobber=clobber, nocompress=nocompress, format=format,\n\u001b[0;32m--> 363\u001b[0;31m                    nside_io=nside_io)\n\u001b[0m\u001b[1;32m    364\u001b[0m \u001b[0;34m\u001b[0m\u001b[0m\n\u001b[1;32m    365\u001b[0m     \u001b[0;32mdef\u001b[0m \u001b[0m_reserve_cov_pix\u001b[0m\u001b[0;34m(\u001b[0m\u001b[0mself\u001b[0m\u001b[0;34m,\u001b[0m \u001b[0mnew_cov_pix\u001b[0m\u001b[0;34m)\u001b[0m\u001b[0;34m:\u001b[0m\u001b[0;34m\u001b[0m\u001b[0;34m\u001b[0m\u001b[0m\n",
      "\u001b[0;32m~/software/healsparse/healsparse/io_map.py\u001b[0m in \u001b[0;36m_write_map\u001b[0;34m(hsp_map, filename, clobber, nocompress, format, nside_io)\u001b[0m\n\u001b[1;32m    101\u001b[0m     \"\"\"\n\u001b[1;32m    102\u001b[0m     \u001b[0;32mif\u001b[0m \u001b[0mformat\u001b[0m \u001b[0;34m==\u001b[0m \u001b[0;34m'fits'\u001b[0m\u001b[0;34m:\u001b[0m\u001b[0;34m\u001b[0m\u001b[0;34m\u001b[0m\u001b[0m\n\u001b[0;32m--> 103\u001b[0;31m         \u001b[0m_write_map_fits\u001b[0m\u001b[0;34m(\u001b[0m\u001b[0mhsp_map\u001b[0m\u001b[0;34m,\u001b[0m \u001b[0mfilename\u001b[0m\u001b[0;34m,\u001b[0m \u001b[0mclobber\u001b[0m\u001b[0;34m=\u001b[0m\u001b[0mclobber\u001b[0m\u001b[0;34m,\u001b[0m \u001b[0mnocompress\u001b[0m\u001b[0;34m=\u001b[0m\u001b[0mnocompress\u001b[0m\u001b[0;34m)\u001b[0m\u001b[0;34m\u001b[0m\u001b[0;34m\u001b[0m\u001b[0m\n\u001b[0m\u001b[1;32m    104\u001b[0m     \u001b[0;32melif\u001b[0m \u001b[0mformat\u001b[0m \u001b[0;34m==\u001b[0m \u001b[0;34m'parquet'\u001b[0m\u001b[0;34m:\u001b[0m\u001b[0;34m\u001b[0m\u001b[0;34m\u001b[0m\u001b[0m\n\u001b[1;32m    105\u001b[0m         \u001b[0m_write_map_parquet\u001b[0m\u001b[0;34m(\u001b[0m\u001b[0mhsp_map\u001b[0m\u001b[0;34m,\u001b[0m \u001b[0mfilename\u001b[0m\u001b[0;34m,\u001b[0m \u001b[0mclobber\u001b[0m\u001b[0;34m=\u001b[0m\u001b[0mclobber\u001b[0m\u001b[0;34m,\u001b[0m \u001b[0mnside_io\u001b[0m\u001b[0;34m=\u001b[0m\u001b[0mnside_io\u001b[0m\u001b[0;34m)\u001b[0m\u001b[0;34m\u001b[0m\u001b[0;34m\u001b[0m\u001b[0m\n",
      "\u001b[0;32m~/software/healsparse/healsparse/io_map_fits.py\u001b[0m in \u001b[0;36m_write_map_fits\u001b[0;34m(hsp_map, filename, clobber, nocompress)\u001b[0m\n\u001b[1;32m    470\u001b[0m         _write_filename(filename, c_hdr, s_hdr, hsp_map._cov_map[:], hsp_map._sparse_map,\n\u001b[1;32m    471\u001b[0m                         \u001b[0mcompress\u001b[0m\u001b[0;34m=\u001b[0m\u001b[0;32mnot\u001b[0m \u001b[0mnocompress\u001b[0m\u001b[0;34m,\u001b[0m\u001b[0;34m\u001b[0m\u001b[0;34m\u001b[0m\u001b[0m\n\u001b[0;32m--> 472\u001b[0;31m                         compress_tilesize=hsp_map._cov_map.nfine_per_cov)\n\u001b[0m\u001b[1;32m    473\u001b[0m     \u001b[0;32melse\u001b[0m\u001b[0;34m:\u001b[0m\u001b[0;34m\u001b[0m\u001b[0;34m\u001b[0m\u001b[0m\n\u001b[1;32m    474\u001b[0m         \u001b[0;31m# All other maps are not compressed.\u001b[0m\u001b[0;34m\u001b[0m\u001b[0;34m\u001b[0m\u001b[0;34m\u001b[0m\u001b[0m\n",
      "\u001b[0;32m~/software/healsparse/healsparse/fits_shim.py\u001b[0m in \u001b[0;36m_write_filename\u001b[0;34m(filename, c_hdr, s_hdr, cov_index_map, sparse_map, compress, compress_tilesize)\u001b[0m\n\u001b[1;32m    249\u001b[0m     \u001b[0mhdu_list\u001b[0m\u001b[0;34m.\u001b[0m\u001b[0mappend\u001b[0m\u001b[0;34m(\u001b[0m\u001b[0mhdu\u001b[0m\u001b[0;34m)\u001b[0m\u001b[0;34m\u001b[0m\u001b[0;34m\u001b[0m\u001b[0m\n\u001b[1;32m    250\u001b[0m \u001b[0;34m\u001b[0m\u001b[0m\n\u001b[0;32m--> 251\u001b[0;31m     \u001b[0mhdu_list\u001b[0m\u001b[0;34m.\u001b[0m\u001b[0mwriteto\u001b[0m\u001b[0;34m(\u001b[0m\u001b[0mfilename\u001b[0m\u001b[0;34m,\u001b[0m \u001b[0moverwrite\u001b[0m\u001b[0;34m=\u001b[0m\u001b[0;32mTrue\u001b[0m\u001b[0;34m)\u001b[0m\u001b[0;34m\u001b[0m\u001b[0;34m\u001b[0m\u001b[0m\n\u001b[0m\u001b[1;32m    252\u001b[0m \u001b[0;34m\u001b[0m\u001b[0m\n\u001b[1;32m    253\u001b[0m     \u001b[0;31m# When writing a gzip unquantized (lossless) floating point image,\u001b[0m\u001b[0;34m\u001b[0m\u001b[0;34m\u001b[0m\u001b[0;34m\u001b[0m\u001b[0m\n",
      "\u001b[0;32m/cvmfs/des.opensciencegrid.org/fnal/anaconda3/envs/des20a/lib/python3.7/site-packages/astropy/utils/decorators.py\u001b[0m in \u001b[0;36mwrapper\u001b[0;34m(*args, **kwargs)\u001b[0m\n\u001b[1;32m    533\u001b[0m                     \u001b[0mwarnings\u001b[0m\u001b[0;34m.\u001b[0m\u001b[0mwarn\u001b[0m\u001b[0;34m(\u001b[0m\u001b[0mmessage\u001b[0m\u001b[0;34m,\u001b[0m \u001b[0mwarning_type\u001b[0m\u001b[0;34m,\u001b[0m \u001b[0mstacklevel\u001b[0m\u001b[0;34m=\u001b[0m\u001b[0;36m2\u001b[0m\u001b[0;34m)\u001b[0m\u001b[0;34m\u001b[0m\u001b[0;34m\u001b[0m\u001b[0m\n\u001b[1;32m    534\u001b[0m \u001b[0;34m\u001b[0m\u001b[0m\n\u001b[0;32m--> 535\u001b[0;31m             \u001b[0;32mreturn\u001b[0m \u001b[0mfunction\u001b[0m\u001b[0;34m(\u001b[0m\u001b[0;34m*\u001b[0m\u001b[0margs\u001b[0m\u001b[0;34m,\u001b[0m \u001b[0;34m**\u001b[0m\u001b[0mkwargs\u001b[0m\u001b[0;34m)\u001b[0m\u001b[0;34m\u001b[0m\u001b[0;34m\u001b[0m\u001b[0m\n\u001b[0m\u001b[1;32m    536\u001b[0m \u001b[0;34m\u001b[0m\u001b[0m\n\u001b[1;32m    537\u001b[0m         \u001b[0;32mreturn\u001b[0m \u001b[0mwrapper\u001b[0m\u001b[0;34m\u001b[0m\u001b[0;34m\u001b[0m\u001b[0m\n",
      "\u001b[0;32m/cvmfs/des.opensciencegrid.org/fnal/anaconda3/envs/des20a/lib/python3.7/site-packages/astropy/io/fits/hdu/hdulist.py\u001b[0m in \u001b[0;36mwriteto\u001b[0;34m(self, fileobj, output_verify, overwrite, checksum)\u001b[0m\n\u001b[1;32m    941\u001b[0m         \u001b[0;32mwith\u001b[0m \u001b[0m_free_space_check\u001b[0m\u001b[0;34m(\u001b[0m\u001b[0mself\u001b[0m\u001b[0;34m,\u001b[0m \u001b[0mdirname\u001b[0m\u001b[0;34m=\u001b[0m\u001b[0mdirname\u001b[0m\u001b[0;34m)\u001b[0m\u001b[0;34m:\u001b[0m\u001b[0;34m\u001b[0m\u001b[0;34m\u001b[0m\u001b[0m\n\u001b[1;32m    942\u001b[0m             \u001b[0;32mfor\u001b[0m \u001b[0mhdu\u001b[0m \u001b[0;32min\u001b[0m \u001b[0mself\u001b[0m\u001b[0;34m:\u001b[0m\u001b[0;34m\u001b[0m\u001b[0;34m\u001b[0m\u001b[0m\n\u001b[0;32m--> 943\u001b[0;31m                 \u001b[0mhdu\u001b[0m\u001b[0;34m.\u001b[0m\u001b[0m_prewriteto\u001b[0m\u001b[0;34m(\u001b[0m\u001b[0mchecksum\u001b[0m\u001b[0;34m=\u001b[0m\u001b[0mchecksum\u001b[0m\u001b[0;34m)\u001b[0m\u001b[0;34m\u001b[0m\u001b[0;34m\u001b[0m\u001b[0m\n\u001b[0m\u001b[1;32m    944\u001b[0m                 \u001b[0mhdu\u001b[0m\u001b[0;34m.\u001b[0m\u001b[0m_writeto\u001b[0m\u001b[0;34m(\u001b[0m\u001b[0mhdulist\u001b[0m\u001b[0;34m.\u001b[0m\u001b[0m_file\u001b[0m\u001b[0;34m)\u001b[0m\u001b[0;34m\u001b[0m\u001b[0;34m\u001b[0m\u001b[0m\n\u001b[1;32m    945\u001b[0m                 \u001b[0mhdu\u001b[0m\u001b[0;34m.\u001b[0m\u001b[0m_postwriteto\u001b[0m\u001b[0;34m(\u001b[0m\u001b[0;34m)\u001b[0m\u001b[0;34m\u001b[0m\u001b[0;34m\u001b[0m\u001b[0m\n",
      "\u001b[0;32m/cvmfs/des.opensciencegrid.org/fnal/anaconda3/envs/des20a/lib/python3.7/site-packages/astropy/io/fits/hdu/compressed.py\u001b[0m in \u001b[0;36m_prewriteto\u001b[0;34m(self, checksum, inplace)\u001b[0m\n\u001b[1;32m   1795\u001b[0m \u001b[0;34m\u001b[0m\u001b[0m\n\u001b[1;32m   1796\u001b[0m         \u001b[0;32mif\u001b[0m \u001b[0mself\u001b[0m\u001b[0;34m.\u001b[0m\u001b[0m_has_data\u001b[0m\u001b[0;34m:\u001b[0m\u001b[0;34m\u001b[0m\u001b[0;34m\u001b[0m\u001b[0m\n\u001b[0;32m-> 1797\u001b[0;31m             \u001b[0mself\u001b[0m\u001b[0;34m.\u001b[0m\u001b[0m_update_compressed_data\u001b[0m\u001b[0;34m(\u001b[0m\u001b[0;34m)\u001b[0m\u001b[0;34m\u001b[0m\u001b[0;34m\u001b[0m\u001b[0m\n\u001b[0m\u001b[1;32m   1798\u001b[0m \u001b[0;34m\u001b[0m\u001b[0m\n\u001b[1;32m   1799\u001b[0m             \u001b[0;31m# Use methods in the superclass to update the header with\u001b[0m\u001b[0;34m\u001b[0m\u001b[0;34m\u001b[0m\u001b[0;34m\u001b[0m\u001b[0m\n",
      "\u001b[0;32m/cvmfs/des.opensciencegrid.org/fnal/anaconda3/envs/des20a/lib/python3.7/site-packages/astropy/io/fits/hdu/compressed.py\u001b[0m in \u001b[0;36m_update_compressed_data\u001b[0;34m(self)\u001b[0m\n\u001b[1;32m   1665\u001b[0m             \u001b[0;31m# compress_hdu returns the size of the heap for the written\u001b[0m\u001b[0;34m\u001b[0m\u001b[0;34m\u001b[0m\u001b[0;34m\u001b[0m\u001b[0m\n\u001b[1;32m   1666\u001b[0m             \u001b[0;31m# compressed image table\u001b[0m\u001b[0;34m\u001b[0m\u001b[0;34m\u001b[0m\u001b[0;34m\u001b[0m\u001b[0m\n\u001b[0;32m-> 1667\u001b[0;31m             \u001b[0mheapsize\u001b[0m\u001b[0;34m,\u001b[0m \u001b[0mself\u001b[0m\u001b[0;34m.\u001b[0m\u001b[0mcompressed_data\u001b[0m \u001b[0;34m=\u001b[0m \u001b[0mcompression\u001b[0m\u001b[0;34m.\u001b[0m\u001b[0mcompress_hdu\u001b[0m\u001b[0;34m(\u001b[0m\u001b[0mself\u001b[0m\u001b[0;34m)\u001b[0m\u001b[0;34m\u001b[0m\u001b[0;34m\u001b[0m\u001b[0m\n\u001b[0m\u001b[1;32m   1668\u001b[0m         \u001b[0;32mfinally\u001b[0m\u001b[0;34m:\u001b[0m\u001b[0;34m\u001b[0m\u001b[0;34m\u001b[0m\u001b[0m\n\u001b[1;32m   1669\u001b[0m             \u001b[0;31m# if data was byteswapped return it to its original order\u001b[0m\u001b[0;34m\u001b[0m\u001b[0;34m\u001b[0m\u001b[0;34m\u001b[0m\u001b[0m\n",
      "\u001b[0;31mKeyboardInterrupt\u001b[0m: "
     ]
    },
    {
     "name": "stderr",
     "output_type": "stream",
     "text": [
      "Process ForkPoolWorker-36:\n",
      "Process ForkPoolWorker-32:\n",
      "Process ForkPoolWorker-30:\n",
      "Process ForkPoolWorker-37:\n",
      "Process ForkPoolWorker-35:\n",
      "Process ForkPoolWorker-34:\n",
      "Traceback (most recent call last):\n",
      "Process ForkPoolWorker-31:\n",
      "Process ForkPoolWorker-29:\n",
      "Process ForkPoolWorker-33:\n",
      "  File \"/cvmfs/des.opensciencegrid.org/fnal/anaconda3/envs/des20a/lib/python3.7/multiprocessing/process.py\", line 297, in _bootstrap\n",
      "    self.run()\n",
      "  File \"/cvmfs/des.opensciencegrid.org/fnal/anaconda3/envs/des20a/lib/python3.7/multiprocessing/process.py\", line 99, in run\n",
      "    self._target(*self._args, **self._kwargs)\n",
      "  File \"/cvmfs/des.opensciencegrid.org/fnal/anaconda3/envs/des20a/lib/python3.7/multiprocessing/pool.py\", line 110, in worker\n",
      "    task = get()\n",
      "Traceback (most recent call last):\n",
      "  File \"/cvmfs/des.opensciencegrid.org/fnal/anaconda3/envs/des20a/lib/python3.7/multiprocessing/queues.py\", line 351, in get\n",
      "    with self._rlock:\n",
      "Traceback (most recent call last):\n",
      "  File \"/cvmfs/des.opensciencegrid.org/fnal/anaconda3/envs/des20a/lib/python3.7/multiprocessing/process.py\", line 297, in _bootstrap\n",
      "    self.run()\n",
      "Traceback (most recent call last):\n",
      "Traceback (most recent call last):\n",
      "  File \"/cvmfs/des.opensciencegrid.org/fnal/anaconda3/envs/des20a/lib/python3.7/multiprocessing/synchronize.py\", line 95, in __enter__\n",
      "    return self._semlock.__enter__()\n",
      "Traceback (most recent call last):\n",
      "  File \"/cvmfs/des.opensciencegrid.org/fnal/anaconda3/envs/des20a/lib/python3.7/multiprocessing/process.py\", line 297, in _bootstrap\n",
      "    self.run()\n",
      "Traceback (most recent call last):\n",
      "  File \"/cvmfs/des.opensciencegrid.org/fnal/anaconda3/envs/des20a/lib/python3.7/multiprocessing/process.py\", line 99, in run\n",
      "    self._target(*self._args, **self._kwargs)\n",
      "  File \"/cvmfs/des.opensciencegrid.org/fnal/anaconda3/envs/des20a/lib/python3.7/multiprocessing/process.py\", line 297, in _bootstrap\n",
      "    self.run()\n",
      "KeyboardInterrupt\n",
      "  File \"/cvmfs/des.opensciencegrid.org/fnal/anaconda3/envs/des20a/lib/python3.7/multiprocessing/process.py\", line 297, in _bootstrap\n",
      "    self.run()\n",
      "  File \"/cvmfs/des.opensciencegrid.org/fnal/anaconda3/envs/des20a/lib/python3.7/multiprocessing/process.py\", line 297, in _bootstrap\n",
      "    self.run()\n",
      "  File \"/cvmfs/des.opensciencegrid.org/fnal/anaconda3/envs/des20a/lib/python3.7/multiprocessing/process.py\", line 99, in run\n",
      "    self._target(*self._args, **self._kwargs)\n",
      "  File \"/cvmfs/des.opensciencegrid.org/fnal/anaconda3/envs/des20a/lib/python3.7/multiprocessing/process.py\", line 297, in _bootstrap\n",
      "    self.run()\n",
      "  File \"/cvmfs/des.opensciencegrid.org/fnal/anaconda3/envs/des20a/lib/python3.7/multiprocessing/pool.py\", line 110, in worker\n",
      "    task = get()\n",
      "  File \"/cvmfs/des.opensciencegrid.org/fnal/anaconda3/envs/des20a/lib/python3.7/multiprocessing/process.py\", line 99, in run\n",
      "    self._target(*self._args, **self._kwargs)\n",
      "  File \"/cvmfs/des.opensciencegrid.org/fnal/anaconda3/envs/des20a/lib/python3.7/multiprocessing/process.py\", line 99, in run\n",
      "    self._target(*self._args, **self._kwargs)\n",
      "  File \"/cvmfs/des.opensciencegrid.org/fnal/anaconda3/envs/des20a/lib/python3.7/multiprocessing/process.py\", line 99, in run\n",
      "    self._target(*self._args, **self._kwargs)\n",
      "  File \"/cvmfs/des.opensciencegrid.org/fnal/anaconda3/envs/des20a/lib/python3.7/multiprocessing/process.py\", line 99, in run\n",
      "    self._target(*self._args, **self._kwargs)\n",
      "  File \"/cvmfs/des.opensciencegrid.org/fnal/anaconda3/envs/des20a/lib/python3.7/multiprocessing/queues.py\", line 351, in get\n",
      "    with self._rlock:\n",
      "  File \"/cvmfs/des.opensciencegrid.org/fnal/anaconda3/envs/des20a/lib/python3.7/multiprocessing/pool.py\", line 110, in worker\n",
      "    task = get()\n",
      "Traceback (most recent call last):\n",
      "  File \"/cvmfs/des.opensciencegrid.org/fnal/anaconda3/envs/des20a/lib/python3.7/multiprocessing/pool.py\", line 110, in worker\n",
      "    task = get()\n",
      "Traceback (most recent call last):\n",
      "  File \"/cvmfs/des.opensciencegrid.org/fnal/anaconda3/envs/des20a/lib/python3.7/multiprocessing/pool.py\", line 110, in worker\n",
      "    task = get()\n",
      "  File \"/cvmfs/des.opensciencegrid.org/fnal/anaconda3/envs/des20a/lib/python3.7/multiprocessing/pool.py\", line 110, in worker\n",
      "    task = get()\n",
      "  File \"/cvmfs/des.opensciencegrid.org/fnal/anaconda3/envs/des20a/lib/python3.7/multiprocessing/synchronize.py\", line 95, in __enter__\n",
      "    return self._semlock.__enter__()\n",
      "  File \"/cvmfs/des.opensciencegrid.org/fnal/anaconda3/envs/des20a/lib/python3.7/multiprocessing/pool.py\", line 110, in worker\n",
      "    task = get()\n",
      "  File \"/cvmfs/des.opensciencegrid.org/fnal/anaconda3/envs/des20a/lib/python3.7/multiprocessing/queues.py\", line 352, in get\n",
      "    res = self._reader.recv_bytes()\n",
      "  File \"/cvmfs/des.opensciencegrid.org/fnal/anaconda3/envs/des20a/lib/python3.7/multiprocessing/queues.py\", line 352, in get\n",
      "    res = self._reader.recv_bytes()\n",
      "  File \"/cvmfs/des.opensciencegrid.org/fnal/anaconda3/envs/des20a/lib/python3.7/multiprocessing/process.py\", line 297, in _bootstrap\n",
      "    self.run()\n",
      "  File \"/cvmfs/des.opensciencegrid.org/fnal/anaconda3/envs/des20a/lib/python3.7/multiprocessing/queues.py\", line 352, in get\n",
      "    res = self._reader.recv_bytes()\n",
      "  File \"/cvmfs/des.opensciencegrid.org/fnal/anaconda3/envs/des20a/lib/python3.7/multiprocessing/process.py\", line 297, in _bootstrap\n",
      "    self.run()\n",
      "  File \"/cvmfs/des.opensciencegrid.org/fnal/anaconda3/envs/des20a/lib/python3.7/multiprocessing/queues.py\", line 352, in get\n",
      "    res = self._reader.recv_bytes()\n",
      "  File \"/cvmfs/des.opensciencegrid.org/fnal/anaconda3/envs/des20a/lib/python3.7/multiprocessing/queues.py\", line 352, in get\n",
      "    res = self._reader.recv_bytes()\n",
      "KeyboardInterrupt\n",
      "  File \"/cvmfs/des.opensciencegrid.org/fnal/anaconda3/envs/des20a/lib/python3.7/multiprocessing/connection.py\", line 216, in recv_bytes\n",
      "    buf = self._recv_bytes(maxlength)\n",
      "  File \"/cvmfs/des.opensciencegrid.org/fnal/anaconda3/envs/des20a/lib/python3.7/multiprocessing/process.py\", line 99, in run\n",
      "    self._target(*self._args, **self._kwargs)\n",
      "  File \"/cvmfs/des.opensciencegrid.org/fnal/anaconda3/envs/des20a/lib/python3.7/multiprocessing/connection.py\", line 216, in recv_bytes\n",
      "    buf = self._recv_bytes(maxlength)\n",
      "  File \"/cvmfs/des.opensciencegrid.org/fnal/anaconda3/envs/des20a/lib/python3.7/multiprocessing/connection.py\", line 216, in recv_bytes\n",
      "    buf = self._recv_bytes(maxlength)\n",
      "  File \"/cvmfs/des.opensciencegrid.org/fnal/anaconda3/envs/des20a/lib/python3.7/multiprocessing/connection.py\", line 216, in recv_bytes\n",
      "    buf = self._recv_bytes(maxlength)\n",
      "  File \"/cvmfs/des.opensciencegrid.org/fnal/anaconda3/envs/des20a/lib/python3.7/multiprocessing/process.py\", line 99, in run\n",
      "    self._target(*self._args, **self._kwargs)\n",
      "  File \"/cvmfs/des.opensciencegrid.org/fnal/anaconda3/envs/des20a/lib/python3.7/multiprocessing/connection.py\", line 216, in recv_bytes\n",
      "    buf = self._recv_bytes(maxlength)\n",
      "  File \"/cvmfs/des.opensciencegrid.org/fnal/anaconda3/envs/des20a/lib/python3.7/multiprocessing/connection.py\", line 407, in _recv_bytes\n",
      "    buf = self._recv(4)\n",
      "  File \"/cvmfs/des.opensciencegrid.org/fnal/anaconda3/envs/des20a/lib/python3.7/multiprocessing/connection.py\", line 407, in _recv_bytes\n",
      "    buf = self._recv(4)\n",
      "  File \"/cvmfs/des.opensciencegrid.org/fnal/anaconda3/envs/des20a/lib/python3.7/multiprocessing/pool.py\", line 110, in worker\n",
      "    task = get()\n",
      "  File \"/cvmfs/des.opensciencegrid.org/fnal/anaconda3/envs/des20a/lib/python3.7/multiprocessing/pool.py\", line 110, in worker\n",
      "    task = get()\n",
      "  File \"/cvmfs/des.opensciencegrid.org/fnal/anaconda3/envs/des20a/lib/python3.7/multiprocessing/connection.py\", line 407, in _recv_bytes\n",
      "    buf = self._recv(4)\n",
      "  File \"/cvmfs/des.opensciencegrid.org/fnal/anaconda3/envs/des20a/lib/python3.7/multiprocessing/connection.py\", line 407, in _recv_bytes\n",
      "    buf = self._recv(4)\n",
      "  File \"/cvmfs/des.opensciencegrid.org/fnal/anaconda3/envs/des20a/lib/python3.7/multiprocessing/connection.py\", line 379, in _recv\n",
      "    chunk = read(handle, remaining)\n",
      "  File \"/cvmfs/des.opensciencegrid.org/fnal/anaconda3/envs/des20a/lib/python3.7/multiprocessing/queues.py\", line 352, in get\n",
      "    res = self._reader.recv_bytes()\n",
      "  File \"/cvmfs/des.opensciencegrid.org/fnal/anaconda3/envs/des20a/lib/python3.7/multiprocessing/queues.py\", line 352, in get\n",
      "    res = self._reader.recv_bytes()\n"
     ]
    },
    {
     "name": "stderr",
     "output_type": "stream",
     "text": [
      "  File \"/cvmfs/des.opensciencegrid.org/fnal/anaconda3/envs/des20a/lib/python3.7/multiprocessing/connection.py\", line 379, in _recv\n",
      "    chunk = read(handle, remaining)\n",
      "  File \"/cvmfs/des.opensciencegrid.org/fnal/anaconda3/envs/des20a/lib/python3.7/multiprocessing/connection.py\", line 379, in _recv\n",
      "    chunk = read(handle, remaining)\n",
      "  File \"/cvmfs/des.opensciencegrid.org/fnal/anaconda3/envs/des20a/lib/python3.7/multiprocessing/connection.py\", line 379, in _recv\n",
      "    chunk = read(handle, remaining)\n",
      "KeyboardInterrupt\n",
      "  File \"/cvmfs/des.opensciencegrid.org/fnal/anaconda3/envs/des20a/lib/python3.7/multiprocessing/connection.py\", line 216, in recv_bytes\n",
      "    buf = self._recv_bytes(maxlength)\n",
      "KeyboardInterrupt\n",
      "KeyboardInterrupt\n",
      "  File \"/cvmfs/des.opensciencegrid.org/fnal/anaconda3/envs/des20a/lib/python3.7/multiprocessing/connection.py\", line 216, in recv_bytes\n",
      "    buf = self._recv_bytes(maxlength)\n",
      "KeyboardInterrupt\n",
      "  File \"/cvmfs/des.opensciencegrid.org/fnal/anaconda3/envs/des20a/lib/python3.7/multiprocessing/connection.py\", line 407, in _recv_bytes\n",
      "    buf = self._recv(4)\n",
      "  File \"/cvmfs/des.opensciencegrid.org/fnal/anaconda3/envs/des20a/lib/python3.7/multiprocessing/connection.py\", line 407, in _recv_bytes\n",
      "    buf = self._recv(4)\n",
      "  File \"/cvmfs/des.opensciencegrid.org/fnal/anaconda3/envs/des20a/lib/python3.7/multiprocessing/connection.py\", line 407, in _recv_bytes\n",
      "    buf = self._recv(4)\n",
      "  File \"/cvmfs/des.opensciencegrid.org/fnal/anaconda3/envs/des20a/lib/python3.7/multiprocessing/connection.py\", line 379, in _recv\n",
      "    chunk = read(handle, remaining)\n",
      "  File \"/cvmfs/des.opensciencegrid.org/fnal/anaconda3/envs/des20a/lib/python3.7/multiprocessing/connection.py\", line 379, in _recv\n",
      "    chunk = read(handle, remaining)\n",
      "  File \"/cvmfs/des.opensciencegrid.org/fnal/anaconda3/envs/des20a/lib/python3.7/multiprocessing/connection.py\", line 379, in _recv\n",
      "    chunk = read(handle, remaining)\n",
      "KeyboardInterrupt\n",
      "KeyboardInterrupt\n",
      "KeyboardInterrupt\n"
     ]
    }
   ],
   "source": [
    "maptypes=[\"coverage_sum\",\"nexp_sum\",\"weight_wmean\"]\n",
    "bands=[\"g\",\"r\",\"z\"]\n",
    "for band in bands:\n",
    "    print(band)\n",
    "    for maptype in maptypes:\n",
    "        print(maptype)\n",
    "        dat=healsparse.HealSparseMap.read(\"../hsp/r2v3_1_{}_{}.hs\".format(band,maptype))\n",
    "        dat2=healsparse.HealSparseMap.read(\"../hsp/r2v3_2_{}_{}.hs\".format(band,maptype))\n",
    "        dat3=healsparse.sum_union([dat,dat2])\n",
    "        dat3.write('../hsp/r2v3_{}_{}.hs'.format(band,maptype), clobber=True)"
   ]
  },
  {
   "cell_type": "code",
   "execution_count": 188,
   "metadata": {},
   "outputs": [],
   "source": [
    "dat.dtype"
   ]
  },
  {
   "cell_type": "code",
   "execution_count": 182,
   "metadata": {},
   "outputs": [],
   "source": [
    "outmap=dat.copy()"
   ]
  },
  {
   "cell_type": "code",
   "execution_count": null,
   "metadata": {},
   "outputs": [],
   "source": [
    "vpix=dat.valid_pixels()\n",
    "outmap.update_values_pix(vpix,dat2[vpix])"
   ]
  },
  {
   "cell_type": "code",
   "execution_count": 189,
   "metadata": {},
   "outputs": [],
   "source": [
    "hp.mollview(outmap.generate_healpix_map(256))"
   ]
  },
  {
   "cell_type": "code",
   "execution_count": 181,
   "metadata": {},
   "outputs": [
    {
     "data": {
      "text/plain": [
       "(458548818,)"
      ]
     },
     "execution_count": 181,
     "metadata": {},
     "output_type": "execute_result"
    }
   ],
   "source": [
    "dat.valid_pixels()"
   ]
  },
  {
   "cell_type": "code",
   "execution_count": null,
   "metadata": {},
   "outputs": [],
   "source": [
    "dat."
   ]
  }
 ],
 "metadata": {
  "kernelspec": {
   "display_name": "Python 3",
   "language": "python",
   "name": "python3"
  },
  "language_info": {
   "codemirror_mode": {
    "name": "ipython",
    "version": 3
   },
   "file_extension": ".py",
   "mimetype": "text/x-python",
   "name": "python",
   "nbconvert_exporter": "python",
   "pygments_lexer": "ipython3",
   "version": "3.7.7"
  }
 },
 "nbformat": 4,
 "nbformat_minor": 4
}
